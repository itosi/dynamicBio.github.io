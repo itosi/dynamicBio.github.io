{
  "nbformat": 4,
  "nbformat_minor": 0,
  "metadata": {
    "colab": {
      "name": "2_production_session_to_open_to_GitHub.ipynb",
      "provenance": [],
      "authorship_tag": "ABX9TyObBa7lb0IERledJOztK6iK",
      "include_colab_link": true
    },
    "kernelspec": {
      "name": "python3",
      "display_name": "Python 3"
    },
    "language_info": {
      "name": "python"
    }
  },
  "cells": [
    {
      "cell_type": "markdown",
      "metadata": {
        "id": "view-in-github",
        "colab_type": "text"
      },
      "source": [
        "<a href=\"https://colab.research.google.com/github/dynamicBio/dynamicBio.github.io/blob/master/2_production_session_to_open_to_GitHub.ipynb\" target=\"_parent\"><img src=\"https://colab.research.google.com/assets/colab-badge.svg\" alt=\"Open In Colab\"/></a>"
      ]
    },
    {
      "cell_type": "code",
      "metadata": {
        "id": "4IZWHB-9Lb3V"
      },
      "source": [
        " !pip install -Uqq fastbook\n",
        "import fastbook\n",
        "fastbook.setup_book()\n",
        "\n",
        "\n",
        "\n",
        "from fastbook import *\n",
        "from fastai.vision.widgets import *\n",
        "\n",
        "\n",
        "ims = ['http://3.bp.blogspot.com/-S1scRCkI3vY/UHzV2kucsPI/AAAAAAAAA-k/YQ5UzHEm9Ss/s1600/Grizzly%2BBear%2BWildlife.jpg']\n",
        "dest = 'images/grizzly.jpg'\n",
        "download_url(ims[0], dest)\n",
        "im = Image.open(dest)\n",
        "im.to_thumb(128,128)\n",
        "\n",
        "\n",
        "\n",
        "\n",
        "\n",
        "\n",
        "path = Path()\n",
        "path.ls(file_exts='.pkl')\n",
        "\n",
        "learn_inf = load_learner(path/'export.pkl')\n",
        "learn_inf.dls.vocab\n",
        "\n",
        "\n",
        "btn_upload = widgets.FileUpload()\n",
        "btn_upload\n",
        "\n",
        "btn_upload = SimpleNamespace(data = ['images/grizzly.jpg'])\n",
        "img = PILImage.create(btn_upload.data[-1])\n",
        "\n",
        "out_pl = widgets.Output()\n",
        "out_pl.clear_output()\n",
        "with out_pl: display(img.to_thumb(128,128))\n",
        "out_pl\n",
        "\n",
        "pred,pred_idx,probs = learn_inf.predict(img)\n",
        "\n",
        "lbl_pred = widgets.Label()\n",
        "lbl_pred.value = f'Prediction: {pred}; Probability: {probs[pred_idx]:.04f}'\n",
        "lbl_pred\n",
        "\n",
        "\n",
        "btn_run = widgets.Button(description='Classify')\n",
        "btn_run\n",
        "\n",
        "\n",
        "\n",
        "def on_click_classify(change):\n",
        "    img = PILImage.create(btn_upload.data[-1])\n",
        "    out_pl.clear_output()\n",
        "    with out_pl: display(img.to_thumb(128,128))\n",
        "    pred,pred_idx,probs = learn_inf.predict(img)\n",
        "    lbl_pred.value = f'Prediction: {pred}; Probability: {probs[pred_idx]:.04f}'\n",
        "\n",
        "btn_run.on_click(on_click_classify)\n",
        "\n",
        "\n",
        "btn_upload = widgets.FileUpload()\n",
        "\n",
        "\n",
        "VBox([widgets.Label('Select your bear!'), \n",
        "      btn_upload, btn_run, out_pl, lbl_pred])\n",
        "\n",
        "\n",
        " !pip install voila\n",
        " !jupyter serverextension enable --sys-prefix voila \n",
        "\n",
        " "
      ],
      "execution_count": null,
      "outputs": []
    }
  ]
}